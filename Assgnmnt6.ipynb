{
 "cells": [
  {
   "cell_type": "markdown",
   "id": "55d92461-471b-4498-8e12-1ea36848d0b3",
   "metadata": {},
   "source": [
    "Q.1. Write a program to accept percentage from the user and display the grade according to the following criteria.\n",
    "1. marks >90  grade A  2. marks>80 and <=90 grade B 3.  marks >=60 and <=80 grade C 4. marks below 60 grade D"
   ]
  },
  {
   "cell_type": "code",
   "execution_count": 2,
   "id": "0d7a81b4-f340-408b-a891-65cf97f1bc8b",
   "metadata": {},
   "outputs": [
    {
     "name": "stdin",
     "output_type": "stream",
     "text": [
      "Enter the percentage:  35\n"
     ]
    },
    {
     "name": "stdout",
     "output_type": "stream",
     "text": [
      "Grade: D\n"
     ]
    }
   ],
   "source": [
    "percentage = float(input(\"Enter the percentage: \"))\n",
    "\n",
    "if percentage > 90:\n",
    "    grade = \"A\"\n",
    "elif percentage > 80:\n",
    "    grade = \"B\"\n",
    "elif percentage >= 60:\n",
    "    grade = \"C\"\n",
    "else:\n",
    "    grade = \"D\"\n",
    "\n",
    "print(\"Grade:\", grade)\n"
   ]
  },
  {
   "cell_type": "markdown",
   "id": "c1410375-192d-45e0-a1d8-ea0ea8e7bae1",
   "metadata": {},
   "source": [
    "Q.2. write a program to accept the cost price of a bike and display the road tax to be paid according to the following criteria:\n",
    "    1. tax 15% cost price(in Rs) >100000\n",
    "    2. tax 10% cost price >50000 and <= 100000\n",
    "    3. tax 5% cost price <=50000"
   ]
  },
  {
   "cell_type": "code",
   "execution_count": 3,
   "id": "aebaa505-ee0c-4fd9-bd93-0ef2635123e5",
   "metadata": {},
   "outputs": [
    {
     "name": "stdin",
     "output_type": "stream",
     "text": [
      "Enter the cost price of the bike (in Rs):  50000\n"
     ]
    },
    {
     "name": "stdout",
     "output_type": "stream",
     "text": [
      "Road tax to be paid: Rs 2500.0\n"
     ]
    }
   ],
   "source": [
    "cost_price = float(input(\"Enter the cost price of the bike (in Rs): \"))\n",
    "\n",
    "if cost_price > 100000:\n",
    "    road_tax = 0.15 * cost_price\n",
    "elif cost_price > 50000:\n",
    "    road_tax = 0.10 * cost_price\n",
    "else:\n",
    "    road_tax = 0.05 * cost_price\n",
    "\n",
    "print(\"Road tax to be paid: Rs\", road_tax)\n"
   ]
  },
  {
   "cell_type": "markdown",
   "id": "71597846-654c-44fd-9cf7-138f8117308b",
   "metadata": {},
   "source": [
    "Q.3. Accept any city from the user and display monuments of that city.\n",
    "1. city delhi monument red fort\n",
    "2. city Agra monument taj mahal\n",
    "3. city jaipur monument jai mahal"
   ]
  },
  {
   "cell_type": "code",
   "execution_count": 4,
   "id": "3160f016-2b78-4dce-b94d-8fd66e7492ce",
   "metadata": {},
   "outputs": [
    {
     "name": "stdin",
     "output_type": "stream",
     "text": [
      "Enter the name of a city:  delhi\n"
     ]
    },
    {
     "name": "stdout",
     "output_type": "stream",
     "text": [
      "In delhi the famous monument is Red Fort\n"
     ]
    }
   ],
   "source": [
    "city = input(\"Enter the name of a city: \")\n",
    "\n",
    "if city.lower() == \"delhi\":\n",
    "    monument = \"Red Fort\"\n",
    "elif city.lower() == \"agra\":\n",
    "    monument = \"Taj Mahal\"\n",
    "elif city.lower() == \"jaipur\":\n",
    "    monument = \"Jai Mahal\"\n",
    "else:\n",
    "    monument = \"Monument not found for the entered city.\"\n",
    "\n",
    "if monument != \"Monument not found for the entered city.\":\n",
    "    print(\"In\", city, \"the famous monument is\", monument)\n",
    "else:\n",
    "    print(monument)\n"
   ]
  },
  {
   "cell_type": "markdown",
   "id": "b080960e-1eb1-4d5c-adee-55bc4086e4c5",
   "metadata": {},
   "source": [
    "Q.4. Check how many times a given number can be divided by 3 before it is less than or equal to 10.\n"
   ]
  },
  {
   "cell_type": "code",
   "execution_count": 5,
   "id": "e98b8842-40f2-4148-9cb7-97373e7b4b9a",
   "metadata": {},
   "outputs": [
    {
     "name": "stdin",
     "output_type": "stream",
     "text": [
      "Enter a number:  5\n"
     ]
    },
    {
     "name": "stdout",
     "output_type": "stream",
     "text": [
      "The given number can be divided by 3 0 times before it is less than or equal to 10.\n"
     ]
    }
   ],
   "source": [
    "number = int(input(\"Enter a number: \"))\n",
    "count = 0\n",
    "\n",
    "while number > 10:\n",
    "    number /= 3\n",
    "    count += 1\n",
    "\n",
    "print(\"The given number can be divided by 3\", count, \"times before it is less than or equal to 10.\")\n"
   ]
  },
  {
   "cell_type": "markdown",
   "id": "eb8481c3-afa1-40f9-aa03-f272b2bdfb2a",
   "metadata": {},
   "source": [
    "Q.5. Why and when to use while loop in python give a detailed description with example."
   ]
  },
  {
   "cell_type": "markdown",
   "id": "f0ef3e4c-52a8-4969-aefd-912e20e469c6",
   "metadata": {},
   "source": [
    "Ans. A while loop in Python is used when you want to repeatedly execute a block of code as long as a certain condition remains true. \n",
    "It allows you to create loops with a flexible termination condition.\n",
    "The condition is a boolean expression that determines whether the loop should continue executing or not. The code block inside the while loop will keep running as long as the condition evaluates to True. If the condition becomes False, the loop terminates, \n",
    "and the program continues with the next statement after the loop."
   ]
  },
  {
   "cell_type": "code",
   "execution_count": 6,
   "id": "21378bf7-2cde-420c-be85-97c5b20ea9b8",
   "metadata": {},
   "outputs": [
    {
     "name": "stdout",
     "output_type": "stream",
     "text": [
      "Count: 0\n",
      "Count: 1\n",
      "Count: 2\n",
      "Count: 3\n",
      "Count: 4\n",
      "Loop finished.\n"
     ]
    }
   ],
   "source": [
    "count = 0\n",
    "\n",
    "while count < 5:\n",
    "    print(\"Count:\", count)\n",
    "    count += 1\n",
    "\n",
    "print(\"Loop finished.\")\n"
   ]
  },
  {
   "cell_type": "code",
   "execution_count": null,
   "id": "8573e2ad-567b-403a-8267-52972fb92b26",
   "metadata": {},
   "outputs": [],
   "source": []
  },
  {
   "cell_type": "markdown",
   "id": "ec90414e-07aa-4af4-a4e8-39495ea1c82a",
   "metadata": {},
   "source": [
    "Q.6 Use nested while loop to print 3 different pattern."
   ]
  },
  {
   "cell_type": "code",
   "execution_count": 7,
   "id": "20ea62b5-dce2-43f8-9e24-06027031c40f",
   "metadata": {},
   "outputs": [
    {
     "name": "stdout",
     "output_type": "stream",
     "text": [
      "*\n",
      "**\n",
      "***\n",
      "****\n",
      "*****\n"
     ]
    }
   ],
   "source": [
    "row = 1\n",
    "while row <= 5:\n",
    "    col = 1\n",
    "    while col <= row:\n",
    "        print(\"*\", end=\"\")\n",
    "        col += 1\n",
    "    print()\n",
    "    row += 1\n"
   ]
  },
  {
   "cell_type": "code",
   "execution_count": 8,
   "id": "5dce1f6a-eded-4ec3-92bc-a42708d5f309",
   "metadata": {},
   "outputs": [
    {
     "name": "stdout",
     "output_type": "stream",
     "text": [
      "*****\n",
      "*****\n",
      "*****\n",
      "*****\n",
      "*****\n"
     ]
    }
   ],
   "source": [
    "row = 1\n",
    "while row <= 5:\n",
    "    col = 1\n",
    "    while col <= 5:\n",
    "        print(\"*\", end=\"\")\n",
    "        col += 1\n",
    "    print()\n",
    "    row += 1\n"
   ]
  },
  {
   "cell_type": "code",
   "execution_count": 9,
   "id": "4095b255-9336-4efa-b82c-49993892a881",
   "metadata": {},
   "outputs": [
    {
     "name": "stdout",
     "output_type": "stream",
     "text": [
      "    *\n",
      "   ***\n",
      "  *****\n",
      " *******\n",
      "*********\n"
     ]
    }
   ],
   "source": [
    "row = 1\n",
    "while row <= 5:\n",
    "    spaces = 5 - row\n",
    "    while spaces > 0:\n",
    "        print(\" \", end=\"\")\n",
    "        spaces -= 1\n",
    "\n",
    "    stars = (2 * row) - 1\n",
    "    while stars > 0:\n",
    "        print(\"*\", end=\"\")\n",
    "        stars -= 1\n",
    "\n",
    "    print()\n",
    "    row += 1\n"
   ]
  },
  {
   "cell_type": "code",
   "execution_count": null,
   "id": "adf31adc-613b-4a23-88cf-379a04fc45ad",
   "metadata": {},
   "outputs": [],
   "source": []
  },
  {
   "cell_type": "markdown",
   "id": "bf9a920e-e9a8-4562-a570-7cea2500b72f",
   "metadata": {},
   "source": [
    "Q.7 Reverse a While loop to display numbers from 10 to 1."
   ]
  },
  {
   "cell_type": "code",
   "execution_count": 10,
   "id": "50804a06-a8de-41bd-86b7-fff3b35aa774",
   "metadata": {},
   "outputs": [
    {
     "name": "stdout",
     "output_type": "stream",
     "text": [
      "10\n",
      "9\n",
      "8\n",
      "7\n",
      "6\n",
      "5\n",
      "4\n",
      "3\n",
      "2\n",
      "1\n"
     ]
    }
   ],
   "source": [
    "number = 10\n",
    "\n",
    "while number >= 1:\n",
    "    print(number)\n",
    "    number -= 1\n"
   ]
  },
  {
   "cell_type": "code",
   "execution_count": null,
   "id": "99aac1e7-1e1e-4dec-8113-2fd57328a0b6",
   "metadata": {},
   "outputs": [],
   "source": [
    "Q.8 Reverse a while loop to display numbers from 10 to 1."
   ]
  }
 ],
 "metadata": {
  "kernelspec": {
   "display_name": "Python 3 (ipykernel)",
   "language": "python",
   "name": "python3"
  },
  "language_info": {
   "codemirror_mode": {
    "name": "ipython",
    "version": 3
   },
   "file_extension": ".py",
   "mimetype": "text/x-python",
   "name": "python",
   "nbconvert_exporter": "python",
   "pygments_lexer": "ipython3",
   "version": "3.10.8"
  }
 },
 "nbformat": 4,
 "nbformat_minor": 5
}
